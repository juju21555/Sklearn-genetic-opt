{
 "cells": [
  {
   "attachments": {},
   "cell_type": "markdown",
   "metadata": {},
   "source": [
    "# Large Feature Selection"
   ]
  },
  {
   "cell_type": "code",
   "execution_count": 17,
   "metadata": {
    "pycharm": {
     "is_executing": true
    }
   },
   "outputs": [],
   "source": [
    "import matplotlib.pyplot as plt\n",
    "from sklearn_genetic import GAFeatureSelectionCV\n",
    "from sklearn_genetic.plots import plot_fitness_evolution\n",
    "from sklearn.svm import SVC\n",
    "from sklearn.model_selection import train_test_split\n",
    "from sklearn.linear_model import LogisticRegression\n",
    "from sklearn.datasets import load_iris\n",
    "from sklearn.metrics import accuracy_score\n",
    "import numpy as np\n"
   ]
  },
  {
   "attachments": {},
   "cell_type": "markdown",
   "metadata": {},
   "source": [
    "### Create a custom dataset with huge number of features\n",
    "Output only depends on the first features\n"
   ]
  },
  {
   "cell_type": "code",
   "execution_count": 18,
   "metadata": {},
   "outputs": [
    {
     "data": {
      "text/plain": [
       "(150, 20000)"
      ]
     },
     "execution_count": 18,
     "metadata": {},
     "output_type": "execute_result"
    }
   ],
   "source": [
    "data = load_iris()\n",
    "X, y = data[\"data\"], data[\"target\"]\n",
    "\n",
    "noise = np.random.uniform(0, 10, size=(X.shape[0], 19_996))\n",
    "\n",
    "X = np.hstack((X, noise))\n",
    "X.shape"
   ]
  },
  {
   "attachments": {},
   "cell_type": "markdown",
   "metadata": {},
   "source": [
    "### Split the training and test data"
   ]
  },
  {
   "cell_type": "code",
   "execution_count": 19,
   "metadata": {},
   "outputs": [],
   "source": [
    "X_train, X_test, y_train, y_test = train_test_split(X, y, test_size=0.33, random_state=0)"
   ]
  },
  {
   "attachments": {},
   "cell_type": "markdown",
   "metadata": {},
   "source": [
    "### Define the GAFeatureSelectionCV options\n",
    "\n",
    "You can check with ``use_numpy_array=False`` and compare speed execution"
   ]
  },
  {
   "cell_type": "code",
   "execution_count": 20,
   "metadata": {},
   "outputs": [],
   "source": [
    "clf = SVC()\n",
    "\n",
    "evolved_estimator = GAFeatureSelectionCV(\n",
    "    estimator=clf,\n",
    "    cv=3,\n",
    "    scoring=\"accuracy\",\n",
    "    max_features=256,\n",
    "    population_size=250,\n",
    "    generations=20,\n",
    "    n_jobs=-1,\n",
    "    tournament_size=25,\n",
    "    verbose=True,\n",
    "    elitism=True,\n",
    "    use_numpy_array=True\n",
    ")"
   ]
  },
  {
   "attachments": {},
   "cell_type": "markdown",
   "metadata": {},
   "source": [
    "### Fit the model and see some results"
   ]
  },
  {
   "cell_type": "code",
   "execution_count": 21,
   "metadata": {},
   "outputs": [
    {
     "name": "stdout",
     "output_type": "stream",
     "text": [
      "gen\tnevals\tfitness \tfitness_std\tfitness_max\tfitness_min\n",
      "0  \t250   \t0.344511\t0.0406353  \t0.441176   \t0.240048   \n",
      "1  \t500   \t0.42007 \t0.02051    \t0.480689   \t0.38057    \n",
      "2  \t500   \t0.459565\t0.0173089  \t0.49079    \t0.420974   \n",
      "3  \t500   \t0.48651 \t0.00791413 \t0.510101   \t0.461378   \n",
      "4  \t500   \t0.501916\t0.0129964  \t0.560903   \t0.490493   \n",
      "5  \t500   \t0.530242\t0.0186567  \t0.57041    \t0.500594   \n",
      "6  \t500   \t0.561111\t0.0126063  \t0.599822   \t0.510992   \n",
      "7  \t500   \t0.581784\t0.0163113  \t0.630422   \t0.560903   \n",
      "8  \t500   \t0.609345\t0.0135598  \t0.630422   \t0.571004   \n",
      "9  \t500   \t0.628708\t0.00654519 \t0.639929   \t0.600416   \n",
      "10 \t500   \t0.633553\t0.0044824  \t0.640226   \t0.630422   \n",
      "11 \t500   \t0.641004\t0.00481485 \t0.660428   \t0.630422   \n",
      "12 \t500   \t0.650021\t0.00843704 \t0.660428   \t0.639929   \n",
      "13 \t500   \t0.660927\t0.00333377 \t0.670232   \t0.65003    \n",
      "14 \t500   \t0.664938\t0.00488625 \t0.670232   \t0.660428   \n",
      "15 \t500   \t0.670153\t0.000873375\t0.670232   \t0.660428   \n",
      "16 \t500   \t0.670742\t0.00217674 \t0.680036   \t0.670232   \n",
      "17 \t500   \t0.673487\t0.00461697 \t0.680036   \t0.670232   \n",
      "18 \t500   \t0.679613\t0.00201312 \t0.680333   \t0.670232   \n",
      "19 \t500   \t0.680097\t0.000120581\t0.680333   \t0.680036   \n",
      "20 \t500   \t0.681355\t0.00309529 \t0.690434   \t0.680036   \n"
     ]
    }
   ],
   "source": [
    "evolved_estimator.fit(X_train, y_train)\n",
    "features = evolved_estimator.support_\n",
    "\n",
    "# Predict only with the subset of selected features\n",
    "y_predict_ga = evolved_estimator.predict(X_test)\n",
    "accuracy = accuracy_score(y_test, y_predict_ga)"
   ]
  },
  {
   "cell_type": "code",
   "execution_count": 22,
   "metadata": {},
   "outputs": [
    {
     "name": "stdout",
     "output_type": "stream",
     "text": [
      "[    2   230   280   291   406   942  1050  1090  1093  1366  1625  1658\n",
      "  2280  2363  2488  2642  2703  2726  2843  2865  2910  2975  3147  3467\n",
      "  3716  3901  3969  4167  4429  4487  4496  4641  4649  4668  4781  5392\n",
      "  5513  5672  5676  5704  5812  5852  5989  6189  6196  6401  6413  6524\n",
      "  6528  6735  7330  7989  8276  8383  8461  8463  8677  8703  8785  8933\n",
      "  9602  9757  9837  9889  9948 10385 10481 10483 10530 10653 10824 11109\n",
      " 11169 11314 11459 11478 11586 11772 11950 11969 12018 12310 12470 12764\n",
      " 12774 12798 13032 13366 13452 13485 13566 13634 13807 13855 13995 14170\n",
      " 14194 14228 14680 14726 15018 15276 15280 15696 16719 17090 17554 17804\n",
      " 17943 17975 18184 18786 18971 19473 19735 19865]\n",
      "accuracy score:  0.30\n"
     ]
    }
   ],
   "source": [
    "#Best features found\n",
    "print(evolved_estimator.support_)\n",
    "print(\"accuracy score: \", \"{:.2f}\".format(accuracy))"
   ]
  },
  {
   "attachments": {},
   "cell_type": "markdown",
   "metadata": {},
   "source": [
    "Re-doing a feature selection to find a smaller set of features"
   ]
  },
  {
   "cell_type": "code",
   "execution_count": 23,
   "metadata": {},
   "outputs": [],
   "source": [
    "\n",
    "clf = SVC()\n",
    "\n",
    "new_estimator = GAFeatureSelectionCV(\n",
    "    estimator=clf,\n",
    "    cv=5,\n",
    "    scoring=\"accuracy\",\n",
    "    max_features=8,\n",
    "    population_size=250,\n",
    "    generations=20,\n",
    "    n_jobs=-1,\n",
    "    verbose=True,\n",
    "    tournament_size=25,\n",
    "    elitism=True,\n",
    "    use_numpy_array=True\n",
    ")"
   ]
  },
  {
   "cell_type": "code",
   "execution_count": 24,
   "metadata": {},
   "outputs": [
    {
     "name": "stdout",
     "output_type": "stream",
     "text": [
      "gen\tnevals\tfitness \tfitness_std\tfitness_max\tfitness_min\n",
      "0  \t250   \t0.370267\t0.109836   \t0.786667   \t0.18       \n",
      "1  \t500   \t0.713733\t0.107293   \t0.8        \t0.4        \n",
      "2  \t500   \t0.790267\t0.012104   \t0.833333   \t0.76       \n",
      "3  \t500   \t0.814133\t0.0146327  \t0.84       \t0.786667   \n",
      "4  \t500   \t0.837867\t0.00841586 \t0.873333   \t0.806667   \n",
      "5  \t500   \t0.84896 \t0.0137948  \t0.873333   \t0.833333   \n",
      "6  \t500   \t0.872107\t0.00535887 \t0.873333   \t0.84       \n",
      "7  \t500   \t0.873333\t1.27663e-15\t0.873333   \t0.873333   \n",
      "8  \t500   \t0.873333\t1.22171e-15\t0.873333   \t0.873333   \n",
      "9  \t500   \t0.874053\t0.0037258  \t0.893333   \t0.873333   \n",
      "10 \t500   \t0.879253\t0.00901223 \t0.893333   \t0.873333   \n",
      "11 \t500   \t0.892613\t0.00362912 \t0.893333   \t0.873333   \n",
      "12 \t500   \t0.893333\t3.9968e-15 \t0.893333   \t0.893333   \n",
      "13 \t500   \t0.893573\t0.00124193 \t0.9        \t0.893333   \n",
      "14 \t500   \t0.895333\t0.00305505 \t0.9        \t0.893333   \n",
      "15 \t500   \t0.900053\t0.00157672 \t0.906667   \t0.893333   \n",
      "16 \t500   \t0.901787\t0.00295278 \t0.906667   \t0.9        \n",
      "17 \t500   \t0.906667\t0.00133333 \t0.913333   \t0.9        \n",
      "18 \t500   \t0.908187\t0.00279695 \t0.913333   \t0.906667   \n",
      "19 \t500   \t0.91336 \t0.00202192 \t0.92       \t0.906667   \n",
      "20 \t500   \t0.916667\t0.00382971 \t0.926667   \t0.913333   \n"
     ]
    }
   ],
   "source": [
    "new_estimator.fit(X[:, evolved_estimator.support_], y)\n",
    "features = new_estimator.support_\n",
    "\n",
    "# Predict only with the subset of selected features\n",
    "y_predict_ga = new_estimator.predict(X_test[:, evolved_estimator.support_])\n",
    "accuracy = accuracy_score(y_test, y_predict_ga)"
   ]
  },
  {
   "cell_type": "code",
   "execution_count": 25,
   "metadata": {},
   "outputs": [
    {
     "name": "stdout",
     "output_type": "stream",
     "text": [
      "[ 0 57]\n",
      "accuracy score:  0.94\n"
     ]
    }
   ],
   "source": [
    "#Best features found\n",
    "print(new_estimator.support_)\n",
    "print(\"accuracy score: \", \"{:.2f}\".format(accuracy))"
   ]
  },
  {
   "cell_type": "code",
   "execution_count": 26,
   "metadata": {},
   "outputs": [
    {
     "data": {
      "text/plain": [
       "Individual([   2, 8703])"
      ]
     },
     "execution_count": 26,
     "metadata": {},
     "output_type": "execute_result"
    }
   ],
   "source": [
    "evolved_estimator.support_[new_estimator.support_]"
   ]
  },
  {
   "cell_type": "code",
   "execution_count": 27,
   "metadata": {},
   "outputs": [
    {
     "name": "stderr",
     "output_type": "stream",
     "text": [
      "c:\\Program Files (x86)\\Microsoft Visual Studio\\Shared\\Python39_64\\lib\\site-packages\\sklearn_genetic\\plots.py:48: UserWarning: Ignoring `palette` because no `hue` variable has been assigned.\n",
      "  ax = sns.lineplot(x=range(len(estimator)), y=fitness_history, markers=True, palette=palette)\n",
      "c:\\Program Files (x86)\\Microsoft Visual Studio\\Shared\\Python39_64\\lib\\site-packages\\sklearn_genetic\\plots.py:48: UserWarning: Ignoring `palette` because no `hue` variable has been assigned.\n",
      "  ax = sns.lineplot(x=range(len(estimator)), y=fitness_history, markers=True, palette=palette)\n"
     ]
    },
    {
     "data": {
      "image/png": "[encoded data removed]",
      "text/plain": [
       "<Figure size 1000x1000 with 1 Axes>"
      ]
     },
     "metadata": {},
     "output_type": "display_data"
    }
   ],
   "source": [
    "plot = plot_fitness_evolution(evolved_estimator, metric=\"fitness\")\n",
    "plot = plot_fitness_evolution(new_estimator, metric=\"fitness\")\n",
    "plt.show()"
   ]
  },
  {
   "attachments": {},
   "cell_type": "markdown",
   "metadata": {},
   "source": [
    "# SVC on all features"
   ]
  },
  {
   "cell_type": "code",
   "execution_count": 28,
   "metadata": {},
   "outputs": [
    {
     "data": {
      "text/plain": [
       "0.3"
      ]
     },
     "execution_count": 28,
     "metadata": {},
     "output_type": "execute_result"
    }
   ],
   "source": [
    "clf = SVC()\n",
    "clf.fit(X_train, y_train)\n",
    "clf.score(X_test, y_test)"
   ]
  },
  {
   "attachments": {},
   "cell_type": "markdown",
   "metadata": {},
   "source": [
    "# SVC on selected features"
   ]
  },
  {
   "cell_type": "code",
   "execution_count": 29,
   "metadata": {},
   "outputs": [
    {
     "data": {
      "text/plain": [
       "0.92"
      ]
     },
     "execution_count": 29,
     "metadata": {},
     "output_type": "execute_result"
    }
   ],
   "source": [
    "clf = SVC()\n",
    "clf.fit(X_train[:, evolved_estimator.support_[new_estimator.support_]], y_train)\n",
    "clf.score(X_test[:, evolved_estimator.support_[new_estimator.support_]], y_test)"
   ]
  }
 ],
 "metadata": {
  "kernelspec": {
   "display_name": "Python 3 (ipykernel)",
   "language": "python",
   "name": "python3"
  },
  "language_info": {
   "codemirror_mode": {
    "name": "ipython",
    "version": 3
   },
   "file_extension": ".py",
   "mimetype": "text/x-python",
   "name": "python",
   "nbconvert_exporter": "python",
   "pygments_lexer": "ipython3",
   "version": "3.9.7"
  }
 },
 "nbformat": 4,
 "nbformat_minor": 1
}
